{
 "cells": [
  {
   "cell_type": "markdown",
   "metadata": {},
   "source": [
    "# 机器学习工程师纳米学位\n",
    "## 模型评价与验证\n",
    "## 项目 1: 预测波士顿房价\n",
    "\n",
    "\n",
    "欢迎来到机器学习工程师纳米学位的第一个项目！在此文件中，有些示例代码已经提供给你，但你还需要实现更多的功能来让项目成功运行。除非有明确要求，你无须修改任何已给出的代码。以**编程练习**开始的标题表示接下来的内容中有需要你必须实现的功能。每一部分都会有详细的指导，需要实现的部分也会在注释中以**TODO**标出。请仔细阅读所有的提示！\n",
    "\n",
    "除了实现代码外，你还**必须**回答一些与项目和实现有关的问题。每一个需要你回答的问题都会以**'问题 X'**为标题。请仔细阅读每个问题，并且在问题后的**'回答'**文字框中写出完整的答案。你的项目将会根据你对问题的回答和撰写代码所实现的功能来进行评分。\n",
    "\n",
    ">**提示：**Code 和 Markdown 区域可通过 **Shift + Enter** 快捷键运行。此外，Markdown可以通过双击进入编辑模式。"
   ]
  },
  {
   "cell_type": "markdown",
   "metadata": {},
   "source": [
    "---\n",
    "## 第一步. 导入数据\n",
    "在这个项目中，你将利用马萨诸塞州波士顿郊区的房屋信息数据训练和测试一个模型，并对模型的性能和预测能力进行测试。通过该数据训练后的好的模型可以被用来对房屋做特定预测---尤其是对房屋的价值。对于房地产经纪等人的日常工作来说，这样的预测模型被证明非常有价值。\n",
    "\n",
    "此项目的数据集来自[UCI机器学习知识库(数据集已下线)](https://archive.ics.uci.edu/ml/datasets.html)。波士顿房屋这些数据于1978年开始统计，共506个数据点，涵盖了麻省波士顿不同郊区房屋14种特征的信息。本项目对原始数据集做了以下处理：\n",
    "- 有16个`'MEDV'` 值为50.0的数据点被移除。 这很可能是由于这些数据点包含**遗失**或**看不到的值**。\n",
    "- 有1个数据点的 `'RM'` 值为8.78. 这是一个异常值，已经被移除。\n",
    "- 对于本项目，房屋的`'RM'`， `'LSTAT'`，`'PTRATIO'`以及`'MEDV'`特征是必要的，其余不相关特征已经被移除。\n",
    "- `'MEDV'`特征的值已经过必要的数学转换，可以反映35年来市场的通货膨胀效应。\n",
    "\n",
    "运行下面区域的代码以载入波士顿房屋数据集，以及一些此项目所需的Python库。如果成功返回数据集的大小，表示数据集已载入成功。"
   ]
  },
  {
   "cell_type": "code",
   "execution_count": 1,
   "metadata": {
    "collapsed": true
   },
   "outputs": [],
   "source": [
    "# 载入此项目所需要的库\n",
    "import numpy as np\n",
    "import pandas as pd\n",
    "import visuals as vs # Supplementary code\n",
    "\n",
    "# 检查你的Python版本\n",
    "from sys import version_info\n",
    "if version_info.major != 2 and version_info.minor != 7:\n",
    "    raise Exception('请使用Python 2.7来完成此项目')\n",
    "    \n",
    "# 让结果在notebook中显示\n",
    "%matplotlib inline"
   ]
  },
  {
   "cell_type": "code",
   "execution_count": 2,
   "metadata": {},
   "outputs": [
    {
     "name": "stdout",
     "output_type": "stream",
     "text": [
      "Boston housing dataset has 489 data points with 4 variables each.\n"
     ]
    }
   ],
   "source": [
    "# 载入波士顿房屋的数据集\n",
    "data = pd.read_csv('housing.csv')\n",
    "prices = data['MEDV']\n",
    "features = data.drop('MEDV', axis = 1)\n",
    "    \n",
    "# 完成\n",
    "print \"Boston housing dataset has {} data points with {} variables each.\".format(*data.shape)"
   ]
  },
  {
   "cell_type": "markdown",
   "metadata": {},
   "source": [
    "---\n",
    "## 第二步. 分析数据\n",
    "在项目的第一个部分，你会对波士顿房地产数据进行初步的观察并给出你的分析。通过对数据的探索来熟悉数据可以让你更好地理解和解释你的结果。\n",
    "\n",
    "由于这个项目的最终目标是建立一个预测房屋价值的模型，我们需要将数据集分为**特征(features)**和**目标变量(target variable)**。\n",
    "- **特征** `'RM'`， `'LSTAT'`，和 `'PTRATIO'`，给我们提供了每个数据点的数量相关的信息。\n",
    "- **目标变量**：` 'MEDV'`，是我们希望预测的变量。\n",
    "\n",
    "他们分别被存在`features`和`prices`两个变量名中。"
   ]
  },
  {
   "cell_type": "markdown",
   "metadata": {},
   "source": [
    "### 编程练习 1：基础统计运算\n",
    "你的第一个编程练习是计算有关波士顿房价的描述统计数据。我们已为你导入了` numpy `，你需要使用这个库来执行必要的计算。这些统计数据对于分析模型的预测结果非常重要的。\n",
    "在下面的代码中，你要做的是：\n",
    "- 计算`prices`中的`'MEDV'`的最小值、最大值、均值、中值和标准差；\n",
    "- 将运算结果储存在相应的变量中。"
   ]
  },
  {
   "cell_type": "code",
   "execution_count": 3,
   "metadata": {},
   "outputs": [
    {
     "name": "stdout",
     "output_type": "stream",
     "text": [
      "Statistics for Boston housing dataset:\n",
      "\n",
      "Minimum price: $105,000.00\n",
      "Maximum price: $1,024,800.00\n",
      "Mean price: $454,342.94\n",
      "Median price $438,900.00\n",
      "Standard deviation of prices: $165,340.28\n"
     ]
    }
   ],
   "source": [
    "#TODO 1\n",
    "\n",
    "#目标：计算价值的最小值\n",
    "minimum_price = prices.min()\n",
    "\n",
    "#目标：计算价值的最大值\n",
    "maximum_price = prices.max()\n",
    "\n",
    "#目标：计算价值的平均值\n",
    "mean_price = prices.mean()\n",
    "\n",
    "#目标：计算价值的中值\n",
    "median_price = prices.median()\n",
    "\n",
    "#目标：计算价值的标准差\n",
    "std_price = prices.std()\n",
    "\n",
    "#目标：输出计算的结果\n",
    "print \"Statistics for Boston housing dataset:\\n\"\n",
    "print \"Minimum price: ${:,.2f}\".format(minimum_price)\n",
    "print \"Maximum price: ${:,.2f}\".format(maximum_price)\n",
    "print \"Mean price: ${:,.2f}\".format(mean_price)\n",
    "print \"Median price ${:,.2f}\".format(median_price)\n",
    "print \"Standard deviation of prices: ${:,.2f}\".format(std_price)"
   ]
  },
  {
   "cell_type": "markdown",
   "metadata": {},
   "source": [
    "### 问题 1 - 特征观察\n",
    "\n",
    "如前文所述，本项目中我们关注的是其中三个值:`'RM'`、`'LSTAT'` 和`'PTRATIO'`，对每一个数据点:\n",
    "- `'RM'` 是该地区中每个房屋的平均房间数量；\n",
    "- `'LSTAT'` 是指该地区有多少百分比的房东属于是低收入阶层（有工作但收入微薄）；\n",
    "- `'PTRATIO'` 是该地区的中学和小学里，学生和老师的数目比（`学生/老师`）。\n",
    "\n",
    "_凭直觉，上述三个特征中对每一个来说，你认为增大该特征的数值，`'MEDV'`的值会是**增大**还是**减小**呢？每一个答案都需要你给出理由。_\n",
    "\n",
    "**提示：**你预期一个`'RM'` 值是6的房屋跟`'RM'` 值是7的房屋相比，价值更高还是更低呢？"
   ]
  },
  {
   "cell_type": "markdown",
   "metadata": {},
   "source": [
    "### 问题 1 - 回答：\n",
    "\n",
    "'RM' 增大会导致 'MEDV' 增大。因为大面积的房屋才能分隔出更多的房间。如果一个地区的房屋平均房间数量较高，说明这个地区的房屋面积平均要更大，居民对生活质量的要求高。可以猜测收入、房价都会较高。\n",
    "\n",
    "'LSTAT' 增大会导致 'MEDV' 减小。低收入阶层占比增加的情况下，该地区的平均房价将会更倾向与迎合低收入阶层。因此可能导致整体房价减小。\n",
    "\n",
    "'PTRATIO' 增大会导致 'MEDV' 减小。学生和老师的数目比增加表示人均教育资源的减小，在富裕的地区配套设施完善，这个数值不应该很大。"
   ]
  },
  {
   "cell_type": "markdown",
   "metadata": {},
   "source": [
    "### 编程练习 2: 数据分割与重排\n",
    "接下来，你需要把波士顿房屋数据集分成训练和测试两个子集。通常在这个过程中，数据也会被重排列，以消除数据集中由于顺序而产生的偏差。\n",
    "在下面的代码中，你需要\n",
    "\n",
    "使用 `sklearn.model_selection` 中的 `train_test_split`， 将`features`和`prices`的数据都分成用于训练的数据子集和用于测试的数据子集。\n",
    "  - 分割比例为：80%的数据用于训练，20%用于测试；\n",
    "  - 选定一个数值以设定 `train_test_split` 中的 `random_state` ，这会确保结果的一致性；"
   ]
  },
  {
   "cell_type": "code",
   "execution_count": 4,
   "metadata": {},
   "outputs": [
    {
     "name": "stderr",
     "output_type": "stream",
     "text": [
      "/Users/zcfan/anaconda/envs/ml/lib/python2.7/site-packages/sklearn/model_selection/_split.py:2010: FutureWarning: From version 0.21, test_size will always complement train_size unless both are specified.\n",
      "  FutureWarning)\n"
     ]
    }
   ],
   "source": [
    "# TODO 2\n",
    "\n",
    "# 提示： 导入train_test_split\n",
    "from sklearn.model_selection import train_test_split\n",
    "\n",
    "X_train, X_test, y_train, y_test = train_test_split(features, prices, train_size=0.8, random_state=233)"
   ]
  },
  {
   "cell_type": "markdown",
   "metadata": {},
   "source": [
    "### 问题 2 - 训练及测试\n",
    "*将数据集按一定比例分为训练用的数据集和测试用的数据集对学习算法有什么好处？*\n",
    "\n",
    "*如果用模型已经见过的数据，例如部分训练集数据进行测试，又有什么坏处？*\n",
    "\n",
    "**提示：** 如果没有数据来对模型进行测试，会出现什么问题？"
   ]
  },
  {
   "cell_type": "markdown",
   "metadata": {},
   "source": [
    "### 问题 2 - 回答:\n",
    "\n",
    "通过将数据集分为训练数据集和测试数据集，我们可以把训练数据得出的模型应用在测试数据集中，来评估模型的表现。\n",
    "\n",
    "如果用模型已经见过的数据来测试，将无法得知模型是否能够泛化到更一般的数据集中。"
   ]
  },
  {
   "cell_type": "markdown",
   "metadata": {},
   "source": [
    "---\n",
    "## 第三步. 模型衡量标准\n",
    "在项目的第三步中，你需要了解必要的工具和技巧来让你的模型进行预测。用这些工具和技巧对每一个模型的表现做精确的衡量可以极大地增强你预测的信心。"
   ]
  },
  {
   "cell_type": "markdown",
   "metadata": {},
   "source": [
    "### 编程练习3：定义衡量标准\n",
    "如果不能对模型的训练和测试的表现进行量化地评估，我们就很难衡量模型的好坏。通常我们会定义一些衡量标准，这些标准可以通过对某些误差或者拟合程度的计算来得到。在这个项目中，你将通过运算[*决定系数*](http://stattrek.com/statistics/dictionary.aspx?definition=coefficient_of_determination) R<sup>2</sup> 来量化模型的表现。模型的决定系数是回归分析中十分常用的统计信息，经常被当作衡量模型预测能力好坏的标准。\n",
    "\n",
    "R<sup>2</sup>的数值范围从0至1，表示**目标变量**的预测值和实际值之间的相关程度平方的百分比。一个模型的R<sup>2</sup> 值为0还不如直接用**平均值**来预测效果好；而一个R<sup>2</sup> 值为1的模型则可以对目标变量进行完美的预测。从0至1之间的数值，则表示该模型中目标变量中有百分之多少能够用**特征**来解释。_模型也可能出现负值的R<sup>2</sup>，这种情况下模型所做预测有时会比直接计算目标变量的平均值差很多。_\n",
    "\n",
    "在下方代码的 `performance_metric` 函数中，你要实现：\n",
    "- 使用 `sklearn.metrics` 中的 [`r2_score`](http://scikit-learn.org/stable/modules/generated/sklearn.metrics.r2_score.html) 来计算 `y_true` 和 `y_predict`的R<sup>2</sup>值，作为对其表现的评判。\n",
    "- 将他们的表现评分储存到`score`变量中。\n",
    "\n",
    "或 \n",
    "\n",
    "- (可选) 不使用任何外部库，参考[决定系数的定义](https://en.wikipedia.org/wiki/Coefficient_of_determination)进行计算，这也可以帮助你更好的理解决定系数在什么情况下等于0或等于1。"
   ]
  },
  {
   "cell_type": "code",
   "execution_count": 5,
   "metadata": {
    "collapsed": true
   },
   "outputs": [],
   "source": [
    "# TODO 3\n",
    "\n",
    "# 提示： 导入r2_score\n",
    "from sklearn.metrics import r2_score\n",
    "\n",
    "def performance_metric(y_true, y_predict):\n",
    "    \"\"\"计算并返回预测值相比于预测值的分数\"\"\"\n",
    "    \n",
    "    score = r2_score(y_true, y_predict)\n",
    "\n",
    "    return score"
   ]
  },
  {
   "cell_type": "code",
   "execution_count": 6,
   "metadata": {
    "collapsed": true
   },
   "outputs": [],
   "source": [
    "# TODO 3 可选\n",
    "\n",
    "# 不允许导入任何计算决定系数的库\n",
    "\n",
    "def performance_metric2(y_true, y_predict):\n",
    "    \"\"\"计算并返回预测值相比于预测值的分数\"\"\"\n",
    "    \n",
    "    score = None\n",
    "\n",
    "    return score"
   ]
  },
  {
   "cell_type": "markdown",
   "metadata": {},
   "source": [
    "### 问题 3 - 拟合程度\n",
    "\n",
    "假设一个数据集有五个数据且一个模型做出下列目标变量的预测：\n",
    "\n",
    "| 真实数值 | 预测数值 |\n",
    "| :-------------: | :--------: |\n",
    "| 3.0 | 2.5 |\n",
    "| -0.5 | 0.0 |\n",
    "| 2.0 | 2.1 |\n",
    "| 7.0 | 7.8 |\n",
    "| 4.2 | 5.3 |\n",
    "*你觉得这个模型已成功地描述了目标变量的变化吗？如果成功，请解释为什么，如果没有，也请给出原因。*  \n",
    "\n",
    "**提示**：运行下方的代码，使用`performance_metric`函数来计算模型的决定系数。"
   ]
  },
  {
   "cell_type": "code",
   "execution_count": 7,
   "metadata": {},
   "outputs": [
    {
     "name": "stdout",
     "output_type": "stream",
     "text": [
      "Model has a coefficient of determination, R^2, of 0.923.\n"
     ]
    }
   ],
   "source": [
    "# 计算这个模型的预测结果的决定系数\n",
    "score = performance_metric([3, -0.5, 2, 7, 4.2], [2.5, 0.0, 2.1, 7.8, 5.3])\n",
    "print \"Model has a coefficient of determination, R^2, of {:.3f}.\".format(score)"
   ]
  },
  {
   "cell_type": "markdown",
   "metadata": {},
   "source": [
    "### 问题 3 - 回答:\n",
    "\n",
    "我觉得该模型已经成功地描述了目标变量的变化。因为真实数值和预测数值的走向一致，算上误差预测数值也都是在真实数值附近，能够描述目标变量的变化。0.923 的决定系数与 1 相当接近，也说明了这一点。"
   ]
  },
  {
   "cell_type": "markdown",
   "metadata": {},
   "source": [
    "---\n",
    "## 第四步. 分析模型的表现\n",
    "在项目的第四步，我们来看一下不同参数下，模型在训练集和验证集上的表现。这里，我们专注于一个特定的算法（带剪枝的决策树，但这并不是这个项目的重点），和这个算法的一个参数 `'max_depth'`。用全部训练集训练，选择不同`'max_depth'` 参数，观察这一参数的变化如何影响模型的表现。画出模型的表现来对于分析过程十分有益，这可以让我们看到一些单看结果看不到的行为。"
   ]
  },
  {
   "cell_type": "markdown",
   "metadata": {},
   "source": [
    "### 学习曲线\n",
    "下方区域内的代码会输出四幅图像，它们是一个决策树模型在不同最大深度下的表现。每一条曲线都直观得显示了随着训练数据量的增加，模型学习曲线的在训练集评分和验证集评分的变化，评分使用决定系数R<sup>2</sup>。曲线的阴影区域代表的是该曲线的不确定性（用标准差衡量）。\n",
    "\n",
    "运行下方区域中的代码，并利用输出的图形回答下面的问题。"
   ]
  },
  {
   "cell_type": "code",
   "execution_count": 8,
   "metadata": {
    "scrolled": false
   },
   "outputs": [
    {
     "data": {
      "image/png": "[encoded data removed]",
      "text/plain": [
       "<matplotlib.figure.Figure at 0x108d21310>"
      ]
     },
     "metadata": {},
     "output_type": "display_data"
    }
   ],
   "source": [
    "# 根据不同的训练集大小，和最大深度，生成学习曲线\n",
    "vs.ModelLearning(X_train, y_train)"
   ]
  },
  {
   "cell_type": "markdown",
   "metadata": {},
   "source": [
    "### 问题 4 - 学习曲线\n",
    "*选择上述图像中的其中一个，并给出其最大深度。随着训练数据量的增加，训练集曲线的评分有怎样的变化？验证集曲线呢？如果有更多的训练数据，是否能有效提升模型的表现呢？*\n",
    "\n",
    "**提示：**学习曲线的评分是否最终会收敛到特定的值？"
   ]
  },
  {
   "cell_type": "markdown",
   "metadata": {},
   "source": [
    "### 问题 4 - 回答:\n",
    "\n",
    "选择最大深度为 3 的图像。随着训练量的增加，训练集曲线的评分逐渐降低，收敛于 0.8 左右。验证集曲线评分呈上升趋势，收敛于0.7左右。\n",
    "\n",
    "目前直观上看验证集曲线仍处于上升趋势，如果有更多训练数据，可能可以进一步促进验证集曲线向更高的评分收敛。"
   ]
  },
  {
   "cell_type": "markdown",
   "metadata": {},
   "source": [
    "### 复杂度曲线\n",
    "下列代码内的区域会输出一幅图像，它展示了一个已经经过训练和验证的决策树模型在不同最大深度条件下的表现。这个图形将包含两条曲线，一个是训练集的变化，一个是验证集的变化。跟**学习曲线**相似，阴影区域代表该曲线的不确定性，模型训练和测试部分的评分都用的 `performance_metric` 函数。\n",
    "\n",
    "运行下方区域中的代码，并利用输出的图形并回答下面的两个问题。"
   ]
  },
  {
   "cell_type": "code",
   "execution_count": 9,
   "metadata": {},
   "outputs": [
    {
     "data": {
      "image/png": "[encoded data removed]",
      "text/plain": [
       "<matplotlib.figure.Figure at 0x112aae890>"
      ]
     },
     "metadata": {},
     "output_type": "display_data"
    }
   ],
   "source": [
    "# 根据不同的最大深度参数，生成复杂度曲线\n",
    "vs.ModelComplexity(X_train, y_train)"
   ]
  },
  {
   "cell_type": "markdown",
   "metadata": {},
   "source": [
    "### 问题 5 - 偏差（bias）与方差（variance）之间的权衡取舍\n",
    "*当模型以最大深度 1训练时，模型的预测是出现很大的偏差还是出现了很大的方差？当模型以最大深度10训练时，情形又如何呢？图形中的哪些特征能够支持你的结论？*\n",
    "  \n",
    "**提示：** 你如何得知模型是否出现了偏差很大或者方差很大的问题？"
   ]
  },
  {
   "cell_type": "markdown",
   "metadata": {},
   "source": [
    "### 问题 5 - 回答:\n",
    "\n",
    "当模型以最大深度 1 训练时，预测出现了很大的偏差。训练集的决定系数都只有 0.45 左右，而且不确定性较小）\n",
    "\n",
    "当模型以最大深度 10 训练时，模型出现了很大的方差。测试集评分的不确定性很大，说明预测结果对于不同样本会出现较大变化，也即方差较大。"
   ]
  },
  {
   "cell_type": "markdown",
   "metadata": {},
   "source": [
    "### 问题 6- 最优模型的猜测\n",
    "*结合问题 5 中的图，你认为最大深度是多少的模型能够最好地对未见过的数据进行预测？你得出这个答案的依据是什么？*"
   ]
  },
  {
   "cell_type": "markdown",
   "metadata": {},
   "source": [
    "### 问题 6 - 回答:\n",
    "\n",
    "我认为最大深度为 4 时，模型对未见过的数据进行预测的表现最好。因为从图中看来，深度为 4 时测试集的平均评分达到一个极大值，此时平均偏差最小，而且方差表现也比最大深度为 3 时好一些。"
   ]
  },
  {
   "cell_type": "markdown",
   "metadata": {},
   "source": [
    "---\n",
    "## 第五步. 选择最优参数"
   ]
  },
  {
   "cell_type": "markdown",
   "metadata": {},
   "source": [
    "### 问题 7- 网格搜索（Grid Search）\n",
    "*什么是网格搜索法？如何用它来优化模型？*\n"
   ]
  },
  {
   "cell_type": "markdown",
   "metadata": {},
   "source": [
    "### 问题 7 - 回答:\n",
    "\n",
    "网格搜索法是通过系统地遍历多种参数组合，通过交叉验证确定最佳效果参数的方法。"
   ]
  },
  {
   "cell_type": "markdown",
   "metadata": {},
   "source": [
    "### 问题 8 - 交叉验证\n",
    "- 什么是K折交叉验证法（k-fold cross-validation）？\n",
    "- [GridSearchCV](http://scikit-learn.org/stable/modules/generated/sklearn.model_selection.GridSearchCV.html)是如何结合交叉验证来完成对最佳参数组合的选择的？\n",
    "- [GridSearchCV](http://scikit-learn.org/stable/modules/generated/sklearn.model_selection.GridSearchCV.html)中的`'cv_results_'`属性能告诉我们什么？\n",
    "- 网格搜索时如果不使用交叉验证会有什么问题？交叉验证又是如何解决这个问题的？\n",
    "\n",
    "**提示：** 在下面 fit_model函数最后加入 `print pd.DataFrame(grid.cv_results_)` 可以帮你查看更多信息。"
   ]
  },
  {
   "cell_type": "markdown",
   "metadata": {},
   "source": [
    "### 问题 8 - 回答：\n",
    "\n",
    "K 折交叉验证法是指把数据集分成 K 个子集，选中其中一个作为测试集，其它为训练集进行训练。训练会进行 K 次，然后将所有表现进行平均。\n",
    "\n",
    "GridSearchCV 会要求调用者传入一个“参数网格”，然后使用网格中的每一种参数组合训练模型并使用使用交叉验证对模型进行评估（默认使用 3 折交叉验证），最终选定表现最好的一组参数。\n",
    "\n",
    "GridSearchCV 中的 `'cv_results_' ` 包含了每个不同参数候选以及交叉验证组合的结果。\n",
    "\n",
    "网格搜索时需要使用一种方法来评价不同参数的效果，如果不使用交叉验证，也可以使用其它的方式来评估，但交叉验证的好处是评估结果更加准确，因为它使用到了整个数据集作为训练集与测试集。"
   ]
  },
  {
   "cell_type": "markdown",
   "metadata": {},
   "source": [
    "### 编程练习 4：训练最优模型\n",
    "在这个练习中，你将需要将所学到的内容整合，使用**决策树算法**训练一个模型。为了得出的是一个最优模型，你需要使用网格搜索法训练模型，以找到最佳的 `'max_depth'` 参数。你可以把`'max_depth'` 参数理解为决策树算法在做出预测前，允许其对数据提出问题的数量。决策树是**监督学习算法**中的一种。\n",
    "\n",
    "在下方 `fit_model` 函数中，你需要做的是：\n",
    "1. **定义 `'cross_validator'` 变量**: 使用 `sklearn.model_selection` 中的 [`KFold`](http://scikit-learn.org/stable/modules/generated/sklearn.model_selection.KFold.html) 创建一个交叉验证生成器对象;\n",
    "2. **定义 `'regressor'` 变量**: 使用  `sklearn.tree` 中的 [`DecisionTreeRegressor`](http://scikit-learn.org/stable/modules/generated/sklearn.tree.DecisionTreeRegressor.html) 创建一个决策树的回归函数;\n",
    "3. **定义 `'params'` 变量**: 为 `'max_depth'` 参数创造一个字典，它的值是从1至10的数组;\n",
    "4. **定义 `'scoring_fnc'` 变量**: 使用 `sklearn.metrics` 中的 [`make_scorer`](http://scikit-learn.org/stable/modules/generated/sklearn.metrics.make_scorer.html)  创建一个评分函数；\n",
    " 将 `‘performance_metric’` 作为参数传至这个函数中；\n",
    "5. **定义 `'grid'` 变量**: 使用 `sklearn.model_selection` 中的 [`GridSearchCV`](http://scikit-learn.org/stable/modules/generated/sklearn.model_selection.GridSearchCV.html) 创建一个网格搜索对象；将变量`'regressor'`, `'params'`, `'scoring_fnc'`和 `'cross_validator'` 作为参数传至这个对象构造函数中；\n",
    "  \n",
    "如果你对python函数的默认参数定义和传递不熟悉，可以参考这个MIT课程的[视频](http://cn-static.udacity.com/mlnd/videos/MIT600XXT114-V004200_DTH.mp4)。"
   ]
  },
  {
   "cell_type": "code",
   "execution_count": 10,
   "metadata": {
    "collapsed": true
   },
   "outputs": [],
   "source": [
    "# TODO 4\n",
    "\n",
    "#提示: 导入 'KFold' 'DecisionTreeRegressor' 'make_scorer' 'GridSearchCV' \n",
    "\n",
    "from sklearn.model_selection import KFold, GridSearchCV\n",
    "from sklearn.tree import DecisionTreeRegressor\n",
    "from sklearn.metrics import make_scorer\n",
    "\n",
    "def fit_model(X, y):\n",
    "    \"\"\" 基于输入数据 [X,y]，利于网格搜索找到最优的决策树模型\"\"\"\n",
    "    \n",
    "    cross_validator = KFold()\n",
    "    \n",
    "    regressor = DecisionTreeRegressor()\n",
    "\n",
    "    params = { 'max_depth': np.arange(10) + 1 }\n",
    "\n",
    "    scoring_fnc = make_scorer(performance_metric)\n",
    "\n",
    "    grid = GridSearchCV(regressor, params, scoring=scoring_fnc, cv=cross_validator)\n",
    "\n",
    "    # 基于输入数据 [X,y]，进行网格搜索\n",
    "    grid = grid.fit(X, y)\n",
    "    \n",
    "    # print pd.DataFrame(grid.cv_results_)\n",
    "\n",
    "    # 返回网格搜索后的最优模型\n",
    "    return grid.best_estimator_"
   ]
  },
  {
   "cell_type": "markdown",
   "metadata": {},
   "source": [
    "### 编程练习 4：训练最优模型 （可选）\n",
    "在这个练习中，你将需要将所学到的内容整合，使用**决策树算法**训练一个模型。为了得出的是一个最优模型，你需要使用网格搜索法训练模型，以找到最佳的 `'max_depth'` 参数。你可以把`'max_depth'` 参数理解为决策树算法在做出预测前，允许其对数据提出问题的数量。决策树是**监督学习算法**中的一种。\n",
    "\n",
    "在下方 `fit_model` 函数中，你需要做的是：\n",
    "\n",
    "- 遍历参数`‘max_depth’`的可选值 1～10，构造对应模型\n",
    "- 计算当前模型的交叉验证分数\n",
    "- 返回最优交叉验证分数对应的模型"
   ]
  },
  {
   "cell_type": "code",
   "execution_count": 11,
   "metadata": {
    "collapsed": true
   },
   "outputs": [],
   "source": [
    "# TODO 4 可选\n",
    "\n",
    "'''\n",
    "不允许使用 DecisionTreeRegressor 以外的任何 sklearn 库\n",
    "\n",
    "提示: 你可能需要实现下面的 cross_val_score 函数\n",
    "\n",
    "def cross_val_score(estimator, X, y, scoring = performance_metric, cv=3):\n",
    "    \"\"\" 返回每组交叉验证的模型分数的数组 \"\"\"\n",
    "    scores = [0,0,0]\n",
    "    return scores\n",
    "'''\n",
    "\n",
    "def fit_model2(X, y):\n",
    "    \"\"\" 基于输入数据 [X,y]，利于网格搜索找到最优的决策树模型\"\"\"\n",
    "    \n",
    "    #最优交叉验证分数对应的最优模型\n",
    "    best_estimator = None\n",
    "    \n",
    "    return best_estimator"
   ]
  },
  {
   "cell_type": "markdown",
   "metadata": {},
   "source": [
    "### 问题 9 - 最优模型\n",
    "*最优模型的最大深度（maximum depth）是多少？此答案与你在**问题 6**所做的猜测是否相同？*\n",
    "\n",
    "运行下方区域内的代码，将决策树回归函数代入训练数据的集合，以得到最优化的模型。"
   ]
  },
  {
   "cell_type": "code",
   "execution_count": 12,
   "metadata": {
    "scrolled": true
   },
   "outputs": [
    {
     "name": "stdout",
     "output_type": "stream",
     "text": [
      "   mean_fit_time  mean_score_time  mean_test_score  mean_train_score  \\\n",
      "0       0.001609         0.000555         0.397935          0.472012   \n",
      "1       0.002674         0.001048         0.685325          0.727101   \n",
      "2       0.011594         0.001489         0.771537          0.828524   \n",
      "3       0.001710         0.002200         0.784221          0.875500   \n",
      "4       0.002245         0.002421         0.779167          0.908382   \n",
      "5       0.004629         0.001071         0.773383          0.934137   \n",
      "6       0.003206         0.001045         0.767533          0.951317   \n",
      "7       0.001608         0.000493         0.741599          0.969491   \n",
      "8       0.003093         0.001530         0.746256          0.979011   \n",
      "9       0.002585         0.000920         0.714838          0.988096   \n",
      "\n",
      "  param_max_depth              params  rank_test_score  split0_test_score  \\\n",
      "0               1   {u'max_depth': 1}               10           0.374850   \n",
      "1               2   {u'max_depth': 2}                9           0.694549   \n",
      "2               3   {u'max_depth': 3}                4           0.801231   \n",
      "3               4   {u'max_depth': 4}                1           0.801253   \n",
      "4               5   {u'max_depth': 5}                2           0.804071   \n",
      "5               6   {u'max_depth': 6}                3           0.775452   \n",
      "6               7   {u'max_depth': 7}                5           0.770039   \n",
      "7               8   {u'max_depth': 8}                7           0.746301   \n",
      "8               9   {u'max_depth': 9}                6           0.740504   \n",
      "9              10  {u'max_depth': 10}                8           0.710259   \n",
      "\n",
      "   split0_train_score  split1_test_score  split1_train_score  \\\n",
      "0            0.481325           0.405744            0.479818   \n",
      "1            0.719171           0.682422            0.734976   \n",
      "2            0.817085           0.748337            0.839372   \n",
      "3            0.860966           0.780083            0.881439   \n",
      "4            0.893170           0.789633            0.915303   \n",
      "5            0.917948           0.788218            0.940704   \n",
      "6            0.937337           0.781687            0.958908   \n",
      "7            0.956303           0.777263            0.977315   \n",
      "8            0.967279           0.767720            0.987492   \n",
      "9            0.982790           0.748058            0.992672   \n",
      "\n",
      "   split2_test_score  split2_train_score  std_fit_time  std_score_time  \\\n",
      "0           0.413389            0.454892      0.000277        0.000151   \n",
      "1           0.678933            0.727156      0.002205        0.000800   \n",
      "2           0.764814            0.829113      0.011314        0.000498   \n",
      "3           0.771197            0.884095      0.000631        0.002378   \n",
      "4           0.743606            0.916672      0.000614        0.001594   \n",
      "5           0.756464            0.943758      0.001936        0.000493   \n",
      "6           0.750854            0.957705      0.001646        0.000579   \n",
      "7           0.701197            0.974856      0.000235        0.000121   \n",
      "8           0.730590            0.982261      0.001014        0.000844   \n",
      "9           0.686233            0.988825      0.001323        0.000532   \n",
      "\n",
      "   std_test_score  std_train_score  \n",
      "0        0.016680         0.012121  \n",
      "1        0.006700         0.006452  \n",
      "2        0.022122         0.009108  \n",
      "3        0.012621         0.010334  \n",
      "4        0.025781         0.010771  \n",
      "5        0.013030         0.011515  \n",
      "6        0.012697         0.009897  \n",
      "7        0.031193         0.009379  \n",
      "8        0.015680         0.008566  \n",
      "9        0.025416         0.004067  \n",
      "Parameter 'max_depth' is 4 for the optimal model.\n"
     ]
    }
   ],
   "source": [
    "# 基于训练数据，获得最优模型\n",
    "optimal_reg = fit_model(X_train, y_train)\n",
    "\n",
    "# 输出最优模型的 'max_depth' 参数\n",
    "print \"Parameter 'max_depth' is {} for the optimal model.\".format(optimal_reg.get_params()['max_depth'])"
   ]
  },
  {
   "cell_type": "markdown",
   "metadata": {},
   "source": [
    "### 问题 9 - 回答：\n",
    "\n",
    "最优模型的最大深度是 4 ，与我在问题 6 中所做的猜测相同。"
   ]
  },
  {
   "cell_type": "markdown",
   "metadata": {},
   "source": [
    "## 第六步. 做出预测\n",
    "当我们用数据训练出一个模型，它现在就可用于对新的数据进行预测。在决策树回归函数中，模型已经学会对新输入的数据*提问*，并返回对**目标变量**的预测值。你可以用这个预测来获取数据未知目标变量的信息，这些数据必须是不包含在训练数据之内的。"
   ]
  },
  {
   "cell_type": "markdown",
   "metadata": {},
   "source": [
    "### 问题 10 - 预测销售价格\n",
    "想像你是一个在波士顿地区的房屋经纪人，并期待使用此模型以帮助你的客户评估他们想出售的房屋。你已经从你的三个客户收集到以下的资讯:\n",
    "\n",
    "| 特征 | 客戶 1 | 客戶 2 | 客戶 3 |\n",
    "| :---: | :---: | :---: | :---: |\n",
    "| 房屋内房间总数 | 5 间房间 | 4 间房间 | 8 间房间 |\n",
    "| 社区贫困指数（％被认为是贫困阶层） | 17% | 32% | 3% |\n",
    "| 邻近学校的学生-老师比例 | 15：1 | 22：1 | 12：1 |\n",
    "\n",
    "*你会建议每位客户的房屋销售的价格为多少？从房屋特征的数值判断，这样的价格合理吗？为什么？* \n",
    "\n",
    "**提示：**用你在**分析数据**部分计算出来的统计信息来帮助你证明你的答案。\n",
    "\n",
    "运行下列的代码区域，使用你优化的模型来为每位客户的房屋价值做出预测。"
   ]
  },
  {
   "cell_type": "code",
   "execution_count": 13,
   "metadata": {},
   "outputs": [
    {
     "name": "stdout",
     "output_type": "stream",
     "text": [
      "Predicted selling price for Client 1's home: $413,787.50\n",
      "Predicted selling price for Client 2's home: $233,975.00\n",
      "Predicted selling price for Client 3's home: $896,700.00\n"
     ]
    }
   ],
   "source": [
    "# 生成三个客户的数据\n",
    "client_data = [[5, 17, 15], # 客户 1\n",
    "               [4, 32, 22], # 客户 2\n",
    "               [8, 3, 12]]  # 客户 3\n",
    "\n",
    "# 进行预测\n",
    "predicted_price = optimal_reg.predict(client_data)\n",
    "for i, price in enumerate(predicted_price):\n",
    "    print \"Predicted selling price for Client {}'s home: ${:,.2f}\".format(i+1, price)"
   ]
  },
  {
   "cell_type": "markdown",
   "metadata": {},
   "source": [
    "### 问题 10 - 回答：\n",
    "\n",
    "我会建议每位客户的房屋销售价格为：\n",
    "\n",
    "- 客户 1 ：`$413,787.50`\n",
    "- 客户 2 ：`$233,975.00`\n",
    "- 客户 3 ：`$896,700.00`\n",
    "\n",
    "由三个客户的数据资讯看来，三间房所处的地区正好代表了较富裕、中等、较贫穷的街区。三个房间的预测价格也是相同的分布，我认为这个预测结果有一定参考价值。"
   ]
  },
  {
   "cell_type": "markdown",
   "metadata": {},
   "source": [
    "### 编程练习 5\n",
    "你刚刚预测了三个客户的房子的售价。在这个练习中，你将用你的最优模型在整个测试数据上进行预测, 并计算相对于目标变量的决定系数 R<sup>2</sup>的值**。"
   ]
  },
  {
   "cell_type": "code",
   "execution_count": 14,
   "metadata": {},
   "outputs": [
    {
     "name": "stdout",
     "output_type": "stream",
     "text": [
      "Optimal model has R^2 score 0.72 on test data\n"
     ]
    }
   ],
   "source": [
    "#TODO 5\n",
    "\n",
    "# 提示：你可能需要用到 X_test, y_test, optimal_reg, performance_metric\n",
    "# 提示：你可能需要参考问题10的代码进行预测\n",
    "# 提示：你可能需要参考问题3的代码来计算R^2的值\n",
    "\n",
    "predicted_price = optimal_reg.predict(X_test)\n",
    "r2 = performance_metric(predicted_price, y_test)\n",
    "\n",
    "print \"Optimal model has R^2 score {:,.2f} on test data\".format(r2)"
   ]
  },
  {
   "cell_type": "markdown",
   "metadata": {},
   "source": [
    "### 问题11 - 分析决定系数\n",
    "\n",
    "你刚刚计算了最优模型在测试集上的决定系数，你会如何评价这个结果？"
   ]
  },
  {
   "cell_type": "markdown",
   "metadata": {},
   "source": [
    "### 问题11 - 回答\n",
    "\n",
    "最优模型在测试集上的决定系数为 0.72 ，我认为结果相当不错。"
   ]
  },
  {
   "cell_type": "markdown",
   "metadata": {},
   "source": [
    "### 模型健壮性\n",
    "\n",
    "一个最优的模型不一定是一个健壮模型。有的时候模型会过于复杂或者过于简单，以致于难以泛化新增添的数据；有的时候模型采用的学习算法并不适用于特定的数据结构；有的时候样本本身可能有太多噪点或样本过少，使得模型无法准确地预测目标变量。这些情况下我们会说模型是欠拟合的。\n",
    "\n",
    "### 问题 12 - 模型健壮性\n",
    "\n",
    "模型是否足够健壮来保证预测的一致性？\n",
    "\n",
    "**提示**: 执行下方区域中的代码，采用不同的训练和测试集执行 `fit_model` 函数10次。注意观察对一个特定的客户来说，预测是如何随训练数据的变化而变化的。"
   ]
  },
  {
   "cell_type": "code",
   "execution_count": 18,
   "metadata": {},
   "outputs": [
    {
     "name": "stdout",
     "output_type": "stream",
     "text": [
      "[[5, 17, 15], [4, 32, 22], [8, 3, 12]]\n",
      "   mean_fit_time  mean_score_time  mean_test_score  mean_train_score  \\\n",
      "0       0.000940         0.000436         0.361594          0.485621   \n",
      "1       0.001103         0.000464         0.628517          0.751594   \n",
      "2       0.001129         0.000418         0.750891          0.842321   \n",
      "3       0.001493         0.000588         0.782862          0.888686   \n",
      "4       0.001834         0.000703         0.788812          0.915662   \n",
      "5       0.003749         0.001555         0.730786          0.939770   \n",
      "6       0.002005         0.001235         0.722237          0.957688   \n",
      "7       0.001255         0.000432         0.713617          0.971154   \n",
      "8       0.001265         0.000461         0.700311          0.982411   \n",
      "9       0.001315         0.000390         0.690456          0.988716   \n",
      "\n",
      "  param_max_depth              params  rank_test_score  split0_test_score  \\\n",
      "0               1   {u'max_depth': 1}               10           0.296396   \n",
      "1               2   {u'max_depth': 2}                9           0.578815   \n",
      "2               3   {u'max_depth': 3}                3           0.733143   \n",
      "3               4   {u'max_depth': 4}                2           0.815246   \n",
      "4               5   {u'max_depth': 5}                1           0.819131   \n",
      "5               6   {u'max_depth': 6}                4           0.660055   \n",
      "6               7   {u'max_depth': 7}                5           0.644162   \n",
      "7               8   {u'max_depth': 8}                6           0.652400   \n",
      "8               9   {u'max_depth': 9}                7           0.628095   \n",
      "9              10  {u'max_depth': 10}                8           0.624422   \n",
      "\n",
      "   split0_train_score  split1_test_score  split1_train_score  \\\n",
      "0            0.482911           0.406028            0.488343   \n",
      "1            0.743938           0.698435            0.745908   \n",
      "2            0.829617           0.788917            0.842131   \n",
      "3            0.884967           0.770233            0.881112   \n",
      "4            0.911480           0.782395            0.911061   \n",
      "5            0.934552           0.780084            0.938785   \n",
      "6            0.956766           0.780645            0.955609   \n",
      "7            0.968574           0.754726            0.973060   \n",
      "8            0.979240           0.748293            0.987144   \n",
      "9            0.987202           0.734589            0.991854   \n",
      "\n",
      "   split2_test_score  split2_train_score  std_fit_time  std_score_time  \\\n",
      "0           0.382861            0.485610      0.000041        0.000077   \n",
      "1           0.608685            0.764936      0.000103        0.000064   \n",
      "2           0.730748            0.855215      0.000126        0.000008   \n",
      "3           0.762859            0.899979      0.000311        0.000148   \n",
      "4           0.764676            0.924445      0.000268        0.000007   \n",
      "5           0.752764            0.945973      0.001118        0.001050   \n",
      "6           0.742504            0.960690      0.000917        0.001112   \n",
      "7           0.734197            0.971829      0.000096        0.000067   \n",
      "8           0.725102            0.980850      0.000055        0.000116   \n",
      "9           0.712865            0.987092      0.000029        0.000003   \n",
      "\n",
      "   std_test_score  std_train_score  \n",
      "0        0.047234         0.002218  \n",
      "1        0.050830         0.009468  \n",
      "2        0.026855         0.010451  \n",
      "3        0.023183         0.008139  \n",
      "4        0.022701         0.006213  \n",
      "5        0.051427         0.004714  \n",
      "6        0.057559         0.002174  \n",
      "7        0.044252         0.001893  \n",
      "8        0.052126         0.003411  \n",
      "9        0.047702         0.002219  \n",
      "Trial 1: $411,000.00\n",
      "   mean_fit_time  mean_score_time  mean_test_score  mean_train_score  \\\n",
      "0       0.000809         0.000360         0.356403          0.470289   \n",
      "1       0.000838         0.000358         0.643815          0.728305   \n",
      "2       0.000943         0.000358         0.767522          0.828688   \n",
      "3       0.001322         0.000412         0.795151          0.879127   \n",
      "4       0.001187         0.000391         0.770217          0.909310   \n",
      "5       0.001313         0.000397         0.772634          0.934639   \n",
      "6       0.001314         0.000400         0.764167          0.953032   \n",
      "7       0.001675         0.000519         0.742930          0.968253   \n",
      "8       0.001655         0.000533         0.725495          0.979804   \n",
      "9       0.003245         0.000772         0.725249          0.988251   \n",
      "\n",
      "  param_max_depth              params  rank_test_score  split0_test_score  \\\n",
      "0               1   {u'max_depth': 1}               10           0.251490   \n",
      "1               2   {u'max_depth': 2}                9           0.569756   \n",
      "2               3   {u'max_depth': 3}                4           0.703073   \n",
      "3               4   {u'max_depth': 4}                1           0.755807   \n",
      "4               5   {u'max_depth': 5}                3           0.712712   \n",
      "5               6   {u'max_depth': 6}                2           0.735274   \n",
      "6               7   {u'max_depth': 7}                5           0.729784   \n",
      "7               8   {u'max_depth': 8}                6           0.732985   \n",
      "8               9   {u'max_depth': 9}                7           0.703448   \n",
      "9              10  {u'max_depth': 10}                8           0.715741   \n",
      "\n",
      "   split0_train_score  split1_test_score  split1_train_score  \\\n",
      "0            0.490647           0.406522            0.462485   \n",
      "1            0.755538           0.705816            0.711489   \n",
      "2            0.842069           0.811798            0.823769   \n",
      "3            0.883079           0.832966            0.882993   \n",
      "4            0.907531           0.820209            0.911563   \n",
      "5            0.934805           0.805910            0.936443   \n",
      "6            0.953163           0.792075            0.955805   \n",
      "7            0.963970           0.783639            0.967836   \n",
      "8            0.975534           0.791223            0.977716   \n",
      "9            0.985690           0.782420            0.986225   \n",
      "\n",
      "   split2_test_score  split2_train_score  std_fit_time  std_score_time  \\\n",
      "0           0.412004            0.457736      0.000033        0.000015   \n",
      "1           0.656443            0.717886      0.000002        0.000007   \n",
      "2           0.788191            0.820225      0.000078        0.000001   \n",
      "3           0.796984            0.871310      0.000351        0.000037   \n",
      "4           0.778172            0.908835      0.000009        0.000008   \n",
      "5           0.777006            0.932670      0.000098        0.000007   \n",
      "6           0.770906            0.950127      0.000069        0.000022   \n",
      "7           0.712240            0.972954      0.000496        0.000179   \n",
      "8           0.681984            0.986162      0.000110        0.000146   \n",
      "9           0.677660            0.992839      0.000903        0.000033   \n",
      "\n",
      "   std_test_score  std_train_score  \n",
      "0        0.074503         0.014525  \n",
      "1        0.056292         0.019434  \n",
      "2        0.046749         0.009572  \n",
      "3        0.031547         0.005528  \n",
      "4        0.044271         0.001680  \n",
      "5        0.029020         0.001545  \n",
      "6        0.025887         0.002320  \n",
      "7        0.029955         0.003680  \n",
      "8        0.047209         0.004584  \n",
      "9        0.043243         0.003251  \n",
      "Trial 2: $411,417.39\n",
      "   mean_fit_time  mean_score_time  mean_test_score  mean_train_score  \\\n",
      "0       0.001669         0.000780         0.393603          0.478077   \n",
      "1       0.000899         0.000357         0.622224          0.737883   \n",
      "2       0.000961         0.000365         0.746297          0.827156   \n",
      "3       0.000977         0.000364         0.778109          0.877958   \n",
      "4       0.001015         0.000366         0.765635          0.913069   \n",
      "5       0.001145         0.000378         0.742478          0.942683   \n",
      "6       0.001132         0.000368         0.725969          0.962271   \n",
      "7       0.001166         0.000374         0.717401          0.975660   \n",
      "8       0.001209         0.000379         0.694284          0.984005   \n",
      "9       0.001281         0.000376         0.709997          0.991748   \n",
      "\n",
      "  param_max_depth              params  rank_test_score  split0_test_score  \\\n",
      "0               1   {u'max_depth': 1}               10           0.384415   \n",
      "1               2   {u'max_depth': 2}                9           0.658888   \n",
      "2               3   {u'max_depth': 3}                3           0.746471   \n",
      "3               4   {u'max_depth': 4}                1           0.797600   \n",
      "4               5   {u'max_depth': 5}                2           0.767918   \n",
      "5               6   {u'max_depth': 6}                4           0.743260   \n",
      "6               7   {u'max_depth': 7}                5           0.713796   \n",
      "7               8   {u'max_depth': 8}                6           0.727985   \n",
      "8               9   {u'max_depth': 9}                8           0.719363   \n",
      "9              10  {u'max_depth': 10}                7           0.724768   \n",
      "\n",
      "   split0_train_score  split1_test_score  split1_train_score  \\\n",
      "0            0.480974           0.404971            0.482238   \n",
      "1            0.740952           0.714995            0.725052   \n",
      "2            0.830732           0.792188            0.821252   \n",
      "3            0.886253           0.769852            0.872269   \n",
      "4            0.921140           0.772247            0.901748   \n",
      "5            0.953741           0.727355            0.929094   \n",
      "6            0.975225           0.721678            0.947322   \n",
      "7            0.984711           0.694327            0.963028   \n",
      "8            0.990592           0.682260            0.973175   \n",
      "9            0.995065           0.682431            0.985466   \n",
      "\n",
      "   split2_test_score  split2_train_score  std_fit_time  std_score_time  \\\n",
      "0           0.391495            0.471019      0.000502    3.339529e-04   \n",
      "1           0.492507            0.747645      0.000070    2.170642e-06   \n",
      "2           0.700230            0.829484      0.000045    6.916422e-06   \n",
      "3           0.766727            0.875353      0.000043    2.614162e-06   \n",
      "4           0.756724            0.916321      0.000004    2.245020e-06   \n",
      "5           0.756815            0.945215      0.000072    1.539355e-05   \n",
      "6           0.742528            0.964266      0.000012    7.786718e-07   \n",
      "7           0.729808            0.979241      0.000007    6.069146e-06   \n",
      "8           0.681036            0.988247      0.000002    4.131060e-06   \n",
      "9           0.722678            0.994714      0.000047    4.112672e-06   \n",
      "\n",
      "   std_test_score  std_train_score  \n",
      "0        0.008528         0.005017  \n",
      "1        0.094373         0.009476  \n",
      "2        0.037494         0.004205  \n",
      "3        0.013893         0.005999  \n",
      "4        0.006533         0.008244  \n",
      "5        0.012024         0.010220  \n",
      "6        0.012122         0.011478  \n",
      "7        0.016301         0.009207  \n",
      "8        0.017809         0.007717  \n",
      "9        0.019474         0.004445  \n",
      "Trial 3: $415,800.00\n"
     ]
    },
    {
     "name": "stdout",
     "output_type": "stream",
     "text": [
      "   mean_fit_time  mean_score_time  mean_test_score  mean_train_score  \\\n",
      "0       0.000934         0.000374         0.388590          0.478808   \n",
      "1       0.000911         0.000357         0.660591          0.756125   \n",
      "2       0.000962         0.000526         0.744511          0.840231   \n",
      "3       0.001228         0.000407         0.776821          0.887770   \n",
      "4       0.001196         0.000425         0.779358          0.914953   \n",
      "5       0.001602         0.000425         0.773997          0.935896   \n",
      "6       0.001587         0.000496         0.777511          0.953392   \n",
      "7       0.001699         0.000540         0.749759          0.968060   \n",
      "8       0.001705         0.000664         0.730137          0.978835   \n",
      "9       0.002102         0.000560         0.735659          0.985261   \n",
      "\n",
      "  param_max_depth              params  rank_test_score  split0_test_score  \\\n",
      "0               1   {u'max_depth': 1}               10           0.371160   \n",
      "1               2   {u'max_depth': 2}                9           0.613192   \n",
      "2               3   {u'max_depth': 3}                6           0.680373   \n",
      "3               4   {u'max_depth': 4}                3           0.734178   \n",
      "4               5   {u'max_depth': 5}                1           0.730107   \n",
      "5               6   {u'max_depth': 6}                4           0.728261   \n",
      "6               7   {u'max_depth': 7}                2           0.737909   \n",
      "7               8   {u'max_depth': 8}                5           0.705348   \n",
      "8               9   {u'max_depth': 9}                8           0.695174   \n",
      "9              10  {u'max_depth': 10}                7           0.685356   \n",
      "\n",
      "   split0_train_score  split1_test_score  split1_train_score  \\\n",
      "0            0.488153           0.379420            0.467167   \n",
      "1            0.776175           0.722223            0.734028   \n",
      "2            0.854029           0.818153            0.828055   \n",
      "3            0.897380           0.832756            0.877563   \n",
      "4            0.922319           0.840895            0.907712   \n",
      "5            0.941890           0.818782            0.934270   \n",
      "6            0.955460           0.820048            0.960596   \n",
      "7            0.969420           0.801183            0.971154   \n",
      "8            0.982190           0.791717            0.976978   \n",
      "9            0.986451           0.789138            0.984626   \n",
      "\n",
      "   split2_test_score  split2_train_score  std_fit_time  std_score_time  \\\n",
      "0           0.415324            0.481104      0.000094        0.000016   \n",
      "1           0.646723            0.758171      0.000029        0.000003   \n",
      "2           0.735500            0.838609      0.000092        0.000236   \n",
      "3           0.763856            0.888368      0.000099        0.000018   \n",
      "4           0.767451            0.914828      0.000189        0.000061   \n",
      "5           0.775301            0.931529      0.000347        0.000024   \n",
      "6           0.774880            0.944118      0.000408        0.000063   \n",
      "7           0.743087            0.963606      0.000118        0.000041   \n",
      "8           0.703790            0.977336      0.000170        0.000178   \n",
      "9           0.732868            0.984708      0.000907        0.000101   \n",
      "\n",
      "   std_test_score  std_train_score  \n",
      "0        0.019167         0.008720  \n",
      "1        0.045603         0.017267  \n",
      "2        0.056642         0.010666  \n",
      "3        0.041296         0.008102  \n",
      "4        0.046031         0.005964  \n",
      "5        0.036990         0.004383  \n",
      "6        0.033606         0.006885  \n",
      "7        0.039432         0.003228  \n",
      "8        0.043602         0.002377  \n",
      "9        0.042441         0.000842  \n",
      "Trial 4: $428,316.00\n",
      "   mean_fit_time  mean_score_time  mean_test_score  mean_train_score  \\\n",
      "0       0.002509         0.000647         0.361592          0.478609   \n",
      "1       0.000989         0.000386         0.641737          0.747457   \n",
      "2       0.001168         0.000407         0.760160          0.826668   \n",
      "3       0.001145         0.000393         0.789836          0.873990   \n",
      "4       0.001239         0.000434         0.771163          0.905296   \n",
      "5       0.001276         0.000425         0.761525          0.935737   \n",
      "6       0.001345         0.000417         0.745519          0.956398   \n",
      "7       0.001795         0.000531         0.713201          0.973050   \n",
      "8       0.001460         0.000473         0.704603          0.983155   \n",
      "9       0.001510         0.000445         0.703144          0.988797   \n",
      "\n",
      "  param_max_depth              params  rank_test_score  split0_test_score  \\\n",
      "0               1   {u'max_depth': 1}               10           0.394071   \n",
      "1               2   {u'max_depth': 2}                9           0.680132   \n",
      "2               3   {u'max_depth': 3}                4           0.794154   \n",
      "3               4   {u'max_depth': 4}                1           0.828009   \n",
      "4               5   {u'max_depth': 5}                2           0.807094   \n",
      "5               6   {u'max_depth': 6}                3           0.809352   \n",
      "6               7   {u'max_depth': 7}                5           0.800094   \n",
      "7               8   {u'max_depth': 8}                6           0.773925   \n",
      "8               9   {u'max_depth': 9}                7           0.735587   \n",
      "9              10  {u'max_depth': 10}                8           0.757346   \n",
      "\n",
      "   split0_train_score  split1_test_score  split1_train_score  \\\n",
      "0            0.471475           0.296416            0.494932   \n",
      "1            0.740777           0.553998            0.772570   \n",
      "2            0.814878           0.686860            0.844943   \n",
      "3            0.861883           0.725297            0.891051   \n",
      "4            0.900339           0.706007            0.914981   \n",
      "5            0.937500           0.696673            0.937593   \n",
      "6            0.958735           0.670257            0.952964   \n",
      "7            0.977426           0.643049            0.968827   \n",
      "8            0.991289           0.625870            0.978280   \n",
      "9            0.996365           0.630389            0.983722   \n",
      "\n",
      "   split2_test_score  split2_train_score  std_fit_time  std_score_time  \\\n",
      "0           0.394038            0.469421      0.001886        0.000196   \n",
      "1           0.690784            0.729026      0.000065        0.000014   \n",
      "2           0.799205            0.820183      0.000218        0.000033   \n",
      "3           0.815910            0.869035      0.000160        0.000020   \n",
      "4           0.800111            0.900569      0.000130        0.000040   \n",
      "5           0.778182            0.932118      0.000085        0.000022   \n",
      "6           0.765786            0.957495      0.000071        0.000006   \n",
      "7           0.722163            0.972898      0.000397        0.000141   \n",
      "8           0.752113            0.979895      0.000154        0.000022   \n",
      "9           0.721280            0.986304      0.000251        0.000079   \n",
      "\n",
      "   std_test_score  std_train_score  \n",
      "0        0.045998         0.011572  \n",
      "1        0.062074         0.018394  \n",
      "2        0.051773         0.013103  \n",
      "3        0.045816         0.012413  \n",
      "4        0.046072         0.006849  \n",
      "5        0.047508         0.002559  \n",
      "6        0.054934         0.002481  \n",
      "7        0.053837         0.003512  \n",
      "8        0.055974         0.005790  \n",
      "9        0.053419         0.005454  \n",
      "Trial 5: $413,334.78\n",
      "   mean_fit_time  mean_score_time  mean_test_score  mean_train_score  \\\n",
      "0       0.001259         0.000432         0.357530          0.478406   \n",
      "1       0.001219         0.000696         0.639608          0.727472   \n",
      "2       0.001497         0.000419         0.745188          0.816354   \n",
      "3       0.001501         0.000549         0.765483          0.870353   \n",
      "4       0.001606         0.000539         0.760639          0.902904   \n",
      "5       0.001496         0.000435         0.742058          0.926232   \n",
      "6       0.001900         0.000668         0.751147          0.948852   \n",
      "7       0.002001         0.000715         0.736043          0.967357   \n",
      "8       0.001776         0.000612         0.704730          0.979495   \n",
      "9       0.001423         0.000430         0.708192          0.987344   \n",
      "\n",
      "  param_max_depth              params  rank_test_score  split0_test_score  \\\n",
      "0               1   {u'max_depth': 1}               10           0.211997   \n",
      "1               2   {u'max_depth': 2}                9           0.564598   \n",
      "2               3   {u'max_depth': 3}                4           0.741408   \n",
      "3               4   {u'max_depth': 4}                1           0.740963   \n",
      "4               5   {u'max_depth': 5}                2           0.756449   \n",
      "5               6   {u'max_depth': 6}                5           0.707593   \n",
      "6               7   {u'max_depth': 7}                3           0.741205   \n",
      "7               8   {u'max_depth': 8}                6           0.727442   \n",
      "8               9   {u'max_depth': 9}                8           0.649578   \n",
      "9              10  {u'max_depth': 10}                7           0.685643   \n",
      "\n",
      "   split0_train_score  split1_test_score  split1_train_score  \\\n",
      "0            0.471536           0.445695            0.469983   \n",
      "1            0.725824           0.716714            0.703587   \n",
      "2            0.817363           0.747869            0.804034   \n",
      "3            0.884281           0.781703            0.854923   \n",
      "4            0.907179           0.768000            0.894882   \n",
      "5            0.925020           0.776209            0.922543   \n",
      "6            0.942322           0.758931            0.945822   \n",
      "7            0.966664           0.733309            0.965205   \n",
      "8            0.979370           0.731007            0.979432   \n",
      "9            0.988267           0.697251            0.986403   \n",
      "\n",
      "   split2_test_score  split2_train_score  std_fit_time  std_score_time  \\\n",
      "0           0.416017            0.493699      0.000092        0.000024   \n",
      "1           0.638090            0.753004      0.000108        0.000190   \n",
      "2           0.746316            0.827664      0.000526        0.000030   \n",
      "3           0.773972            0.871856      0.000313        0.000179   \n",
      "4           0.757501            0.906650      0.000403        0.000149   \n",
      "5           0.742636            0.931132      0.000210        0.000069   \n",
      "6           0.753382            0.958411      0.000428        0.000161   \n",
      "7           0.747445            0.970202      0.000068        0.000194   \n",
      "8           0.734029            0.979684      0.000430        0.000153   \n",
      "9           0.741856            0.987363      0.000024        0.000036   \n",
      "\n",
      "   std_test_score  std_train_score  \n",
      "0        0.104008         0.010832  \n",
      "1        0.062150         0.020208  \n",
      "2        0.002757         0.009673  \n",
      "3        0.017688         0.012032  \n",
      "4        0.005212         0.005676  \n",
      "5        0.028033         0.003609  \n",
      "6        0.007411         0.006909  \n",
      "7        0.008396         0.002098  \n",
      "8        0.039167         0.000136  \n",
      "9        0.024227         0.000761  \n",
      "Trial 6: $411,931.58\n",
      "   mean_fit_time  mean_score_time  mean_test_score  mean_train_score  \\\n",
      "0       0.001130         0.000432         0.346543          0.508324   \n",
      "1       0.000919         0.000360         0.642699          0.763795   \n",
      "2       0.000938         0.000364         0.747652          0.842205   \n",
      "3       0.000984         0.000383         0.768015          0.886035   \n",
      "4       0.001170         0.000384         0.752163          0.915426   \n",
      "5       0.001081         0.000429         0.717774          0.939005   \n",
      "6       0.001148         0.000376         0.691404          0.956461   \n",
      "7       0.001197         0.000435         0.678476          0.972141   \n",
      "8       0.001209         0.000374         0.667531          0.984074   \n",
      "9       0.001402         0.000438         0.669502          0.990593   \n",
      "\n",
      "  param_max_depth              params  rank_test_score  split0_test_score  \\\n",
      "0               1   {u'max_depth': 1}               10           0.376012   \n",
      "1               2   {u'max_depth': 2}                9           0.644404   \n",
      "2               3   {u'max_depth': 3}                3           0.780365   \n",
      "3               4   {u'max_depth': 4}                1           0.767818   \n",
      "4               5   {u'max_depth': 5}                2           0.725723   \n",
      "5               6   {u'max_depth': 6}                4           0.707997   \n",
      "6               7   {u'max_depth': 7}                5           0.670788   \n",
      "7               8   {u'max_depth': 8}                6           0.667483   \n",
      "8               9   {u'max_depth': 9}                8           0.657720   \n",
      "9              10  {u'max_depth': 10}                7           0.655808   \n",
      "\n",
      "   split0_train_score  split1_test_score  split1_train_score  \\\n",
      "0            0.515661           0.390967            0.490325   \n",
      "1            0.763969           0.683336            0.755077   \n",
      "2            0.844052           0.780113            0.832748   \n",
      "3            0.886308           0.791188            0.881166   \n",
      "4            0.919108           0.784721            0.908406   \n",
      "5            0.945023           0.751790            0.934571   \n",
      "6            0.962983           0.710481            0.959034   \n",
      "7            0.976234           0.695788            0.974279   \n",
      "8            0.985649           0.696042            0.985102   \n",
      "9            0.991151           0.696279            0.993178   \n",
      "\n",
      "   split2_test_score  split2_train_score  std_fit_time  std_score_time  \\\n",
      "0           0.272423            0.518985      0.000287        0.000056   \n",
      "1           0.600344            0.772338      0.000057        0.000004   \n",
      "2           0.682226            0.849816      0.000052        0.000005   \n",
      "3           0.745040            0.890632      0.000027        0.000018   \n",
      "4           0.746247            0.918764      0.000054        0.000016   \n",
      "5           0.693610            0.937420      0.000012        0.000075   \n",
      "6           0.693102            0.947364      0.000009        0.000006   \n",
      "7           0.672243            0.965910      0.000044        0.000085   \n",
      "8           0.648905            0.981470      0.000004        0.000008   \n",
      "9           0.656524            0.987448      0.000024        0.000056   \n",
      "\n",
      "   std_test_score  std_train_score  \n",
      "0        0.052666         0.012799  \n",
      "1        0.033860         0.007048  \n",
      "2        0.046175         0.007089  \n",
      "3        0.018816         0.003869  \n",
      "4        0.024460         0.004966  \n",
      "5        0.024716         0.004412  \n",
      "6        0.016259         0.006631  \n",
      "7        0.012372         0.004478  \n",
      "8        0.020442         0.001854  \n",
      "9        0.018900         0.002372  \n",
      "Trial 7: $399,663.16\n"
     ]
    },
    {
     "name": "stdout",
     "output_type": "stream",
     "text": [
      "   mean_fit_time  mean_score_time  mean_test_score  mean_train_score  \\\n",
      "0       0.000838         0.000380         0.383950          0.476264   \n",
      "1       0.000844         0.000353         0.676007          0.725586   \n",
      "2       0.000981         0.000360         0.763511          0.819362   \n",
      "3       0.000954         0.000366         0.774200          0.873124   \n",
      "4       0.001005         0.000370         0.760067          0.901612   \n",
      "5       0.001159         0.000373         0.748597          0.930882   \n",
      "6       0.001122         0.000369         0.711029          0.955837   \n",
      "7       0.001223         0.000371         0.706762          0.971648   \n",
      "8       0.001626         0.000440         0.683293          0.984564   \n",
      "9       0.001637         0.000414         0.699274          0.991678   \n",
      "\n",
      "  param_max_depth              params  rank_test_score  split0_test_score  \\\n",
      "0               1   {u'max_depth': 1}               10           0.432056   \n",
      "1               2   {u'max_depth': 2}                9           0.682969   \n",
      "2               3   {u'max_depth': 3}                2           0.752752   \n",
      "3               4   {u'max_depth': 4}                1           0.782346   \n",
      "4               5   {u'max_depth': 5}                3           0.771544   \n",
      "5               6   {u'max_depth': 6}                4           0.727725   \n",
      "6               7   {u'max_depth': 7}                5           0.734581   \n",
      "7               8   {u'max_depth': 8}                6           0.722332   \n",
      "8               9   {u'max_depth': 9}                8           0.696618   \n",
      "9              10  {u'max_depth': 10}                7           0.714730   \n",
      "\n",
      "   split0_train_score  split1_test_score  split1_train_score  \\\n",
      "0            0.456660           0.332892            0.499689   \n",
      "1            0.709917           0.637979            0.736151   \n",
      "2            0.812355           0.740763            0.824940   \n",
      "3            0.869878           0.747332            0.881831   \n",
      "4            0.903373           0.721953            0.906689   \n",
      "5            0.927739           0.724936            0.937723   \n",
      "6            0.946842           0.652003            0.961947   \n",
      "7            0.962002           0.647108            0.978960   \n",
      "8            0.978536           0.633092            0.989110   \n",
      "9            0.987012           0.651723            0.995954   \n",
      "\n",
      "   split2_test_score  split2_train_score  std_fit_time  std_score_time  \\\n",
      "0           0.386532            0.472444      0.000060        0.000024   \n",
      "1           0.707020            0.730690      0.000008        0.000003   \n",
      "2           0.797099            0.820792      0.000121        0.000002   \n",
      "3           0.792860            0.867664      0.000007        0.000007   \n",
      "4           0.786616            0.894774      0.000004        0.000007   \n",
      "5           0.793290            0.927183      0.000035        0.000003   \n",
      "6           0.746321            0.958721      0.000005        0.000003   \n",
      "7           0.750726            0.973983      0.000072        0.000004   \n",
      "8           0.720067            0.986046      0.000295        0.000039   \n",
      "9           0.731250            0.992067      0.000186        0.000018   \n",
      "\n",
      "   std_test_score  std_train_score  \n",
      "0        0.040550         0.017773  \n",
      "1        0.028580         0.011302  \n",
      "2        0.024206         0.005237  \n",
      "3        0.019443         0.006223  \n",
      "4        0.027595         0.005021  \n",
      "5        0.031563         0.004843  \n",
      "6        0.041932         0.006495  \n",
      "7        0.043669         0.007117  \n",
      "8        0.036702         0.004442  \n",
      "9        0.034231         0.003661  \n",
      "Trial 8: $407,232.00\n",
      "   mean_fit_time  mean_score_time  mean_test_score  mean_train_score  \\\n",
      "0       0.000934         0.000461         0.381294          0.473515   \n",
      "1       0.001792         0.000404         0.664049          0.729870   \n",
      "2       0.000989         0.000374         0.758634          0.828604   \n",
      "3       0.001015         0.000368         0.771771          0.876597   \n",
      "4       0.001211         0.000458         0.729418          0.910770   \n",
      "5       0.001240         0.000416         0.694961          0.935142   \n",
      "6       0.001303         0.000387         0.696656          0.954456   \n",
      "7       0.001607         0.000438         0.673560          0.971217   \n",
      "8       0.001774         0.000677         0.677534          0.980182   \n",
      "9       0.002356         0.000979         0.662305          0.986898   \n",
      "\n",
      "  param_max_depth              params  rank_test_score  split0_test_score  \\\n",
      "0               1   {u'max_depth': 1}               10           0.350692   \n",
      "1               2   {u'max_depth': 2}                8           0.666530   \n",
      "2               3   {u'max_depth': 3}                2           0.763449   \n",
      "3               4   {u'max_depth': 4}                1           0.739508   \n",
      "4               5   {u'max_depth': 5}                3           0.723035   \n",
      "5               6   {u'max_depth': 6}                5           0.674515   \n",
      "6               7   {u'max_depth': 7}                4           0.674531   \n",
      "7               8   {u'max_depth': 8}                7           0.630316   \n",
      "8               9   {u'max_depth': 9}                6           0.619428   \n",
      "9              10  {u'max_depth': 10}                9           0.613676   \n",
      "\n",
      "   split0_train_score  split1_test_score  split1_train_score  \\\n",
      "0            0.499168           0.451847            0.465141   \n",
      "1            0.735070           0.655222            0.731544   \n",
      "2            0.822487           0.760319            0.836796   \n",
      "3            0.876576           0.795463            0.879111   \n",
      "4            0.908476           0.703313            0.913007   \n",
      "5            0.937167           0.682069            0.931549   \n",
      "6            0.965383           0.650559            0.946954   \n",
      "7            0.979299           0.627668            0.964913   \n",
      "8            0.985716           0.651679            0.972633   \n",
      "9            0.990325           0.623675            0.980427   \n",
      "\n",
      "   split2_test_score  split2_train_score  std_fit_time  std_score_time  \\\n",
      "0           0.341580            0.456235      0.000067        0.000119   \n",
      "1           0.670375            0.722996      0.001186        0.000047   \n",
      "2           0.752098            0.826528      0.000049        0.000008   \n",
      "3           0.780591            0.874105      0.000034        0.000001   \n",
      "4           0.761954            0.910828      0.000078        0.000083   \n",
      "5           0.728458            0.936710      0.000150        0.000055   \n",
      "6           0.765047            0.951032      0.000233        0.000016   \n",
      "7           0.763028            0.969439      0.000303        0.000046   \n",
      "8           0.761942            0.982199      0.000472        0.000237   \n",
      "9           0.749937            0.989943      0.000456        0.000202   \n",
      "\n",
      "   std_test_score  std_train_score  \n",
      "0        0.049932         0.018501  \n",
      "1        0.006424         0.005069  \n",
      "2        0.004787         0.006023  \n",
      "3        0.023691         0.002044  \n",
      "4        0.024335         0.001850  \n",
      "5        0.023841         0.002547  \n",
      "6        0.049251         0.007903  \n",
      "7        0.063152         0.006006  \n",
      "8        0.061010         0.005528  \n",
      "9        0.061981         0.004578  \n",
      "Trial 9: $402,531.82\n",
      "   mean_fit_time  mean_score_time  mean_test_score  mean_train_score  \\\n",
      "0       0.002649         0.000721         0.348911          0.437714   \n",
      "1       0.002493         0.000842         0.660954          0.730548   \n",
      "2       0.001781         0.000695         0.755652          0.827710   \n",
      "3       0.001532         0.000528         0.790694          0.874077   \n",
      "4       0.002316         0.000792         0.784314          0.907540   \n",
      "5       0.003428         0.000859         0.764626          0.929998   \n",
      "6       0.001973         0.000651         0.739180          0.949928   \n",
      "7       0.002545         0.000931         0.730649          0.968174   \n",
      "8       0.001801         0.000806         0.675183          0.979032   \n",
      "9       0.002099         0.000703         0.676645          0.988535   \n",
      "\n",
      "  param_max_depth              params  rank_test_score  split0_test_score  \\\n",
      "0               1   {u'max_depth': 1}               10           0.418210   \n",
      "1               2   {u'max_depth': 2}                9           0.638858   \n",
      "2               3   {u'max_depth': 3}                4           0.709403   \n",
      "3               4   {u'max_depth': 4}                1           0.779498   \n",
      "4               5   {u'max_depth': 5}                2           0.794992   \n",
      "5               6   {u'max_depth': 6}                3           0.762169   \n",
      "6               7   {u'max_depth': 7}                5           0.720625   \n",
      "7               8   {u'max_depth': 8}                6           0.729680   \n",
      "8               9   {u'max_depth': 9}                8           0.593906   \n",
      "9              10  {u'max_depth': 10}                7           0.613030   \n",
      "\n",
      "   split0_train_score  split1_test_score  split1_train_score  \\\n",
      "0            0.434303           0.249511            0.461843   \n",
      "1            0.742531           0.669895            0.728918   \n",
      "2            0.827233           0.765498            0.828994   \n",
      "3            0.874159           0.791088            0.879403   \n",
      "4            0.911689           0.754294            0.915150   \n",
      "5            0.932776           0.729168            0.938856   \n",
      "6            0.954363           0.716836            0.954028   \n",
      "7            0.972219           0.699510            0.969866   \n",
      "8            0.981126           0.684054            0.979712   \n",
      "9            0.990229           0.684188            0.986525   \n",
      "\n",
      "   split2_test_score  split2_train_score  std_fit_time  std_score_time  \\\n",
      "0           0.378478            0.416995      0.001203        0.000176   \n",
      "1           0.674280            0.720196      0.000756        0.000207   \n",
      "2           0.792411            0.826903      0.000355        0.000273   \n",
      "3           0.801582            0.868669      0.000286        0.000143   \n",
      "4           0.803574            0.895779      0.000851        0.000182   \n",
      "5           0.802560            0.918362      0.001636        0.000373   \n",
      "6           0.780222            0.941394      0.000562        0.000174   \n",
      "7           0.762765            0.962439      0.001161        0.000532   \n",
      "8           0.748214            0.976259      0.000288        0.000253   \n",
      "9           0.733207            0.988851      0.000364        0.000151   \n",
      "\n",
      "   std_test_score  std_train_score  \n",
      "0        0.072004         0.018467  \n",
      "1        0.015786         0.009191  \n",
      "2        0.034614         0.000918  \n",
      "3        0.009026         0.004382  \n",
      "4        0.021475         0.008435  \n",
      "5        0.029975         0.008594  \n",
      "6        0.029006         0.006036  \n",
      "7        0.025800         0.004168  \n",
      "8        0.063346         0.002044  \n",
      "9        0.049381         0.001529  \n",
      "Trial 10: $413,700.00\n",
      "\n",
      "Range in prices: $28,652.84\n"
     ]
    }
   ],
   "source": [
    "# 请先注释掉 fit_model 函数里的所有 print 语句\n",
    "vs.PredictTrials(features, prices, fit_model, client_data)"
   ]
  },
  {
   "cell_type": "markdown",
   "metadata": {},
   "source": [
    "### 问题 12 - 回答：\n",
    "\n",
    "从上方代码的运行结果来看， 10 次不同训练数据导致的最高与最低预测结果相差在 `$28,652.84` 内，并未出现剧烈变动。由此看来，模型能够在不同训练集下提供一致性较好的预测。"
   ]
  },
  {
   "cell_type": "markdown",
   "metadata": {},
   "source": [
    "### 问题 13 - 实用性探讨\n",
    "*简单地讨论一下你建构的模型能否在现实世界中使用？* \n",
    "\n",
    "提示：回答以下几个问题，并给出相应结论的理由：\n",
    "- *1978年所采集的数据，在已考虑通货膨胀的前提下，在今天是否仍然适用？*\n",
    "- *数据中呈现的特征是否足够描述一个房屋？*\n",
    "- *在波士顿这样的大都市采集的数据，能否应用在其它乡镇地区？*\n",
    "- *你觉得仅仅凭房屋所在社区的环境来判断房屋价值合理吗？*"
   ]
  },
  {
   "cell_type": "markdown",
   "metadata": {},
   "source": [
    "### 问题 13 - 回答：\n",
    "\n",
    "- 很难想象 1978 年的数据在今天仍能适用，但如果找到状况类似当年波士顿的地区的话，这些数据应该仍能起到一定作用。\n",
    "- 不够，比如 'RM' 特征，没有给出房屋总面积的情况下房间总数其实并没有什么用处。\n",
    "- 不可以，发达的大都市与小乡镇各项特征对房价的影响规律完全不同，状况相差太大的两个地区不可能适用同一份数据。\n",
    "- 不合理，模型预测只能作为统计学上的参考，现实中太多因素可能会导致房屋价格的变化了。"
   ]
  },
  {
   "cell_type": "markdown",
   "metadata": {},
   "source": [
    "## 可选问题 - 预测北京房价\n",
    "\n",
    "（本题结果不影响项目是否通过）通过上面的实践，相信你对机器学习的一些常用概念有了很好的领悟和掌握。但利用70年代的波士顿房价数据进行建模的确对我们来说意义不是太大。现在你可以把你上面所学应用到北京房价数据集中 `bj_housing.csv`。\n",
    "\n",
    "免责声明：考虑到北京房价受到宏观经济、政策调整等众多因素的直接影响，预测结果仅供参考。\n",
    "\n",
    "这个数据集的特征有：\n",
    "- Area：房屋面积，平方米\n",
    "- Room：房间数，间\n",
    "- Living: 厅数，间\n",
    "- School: 是否为学区房，0或1\n",
    "- Year: 房屋建造时间，年\n",
    "- Floor: 房屋所处楼层，层\n",
    "\n",
    "目标变量：\n",
    "- Value: 房屋人民币售价，万\n",
    "\n",
    "你可以参考上面学到的内容，拿这个数据集来练习数据分割与重排、定义衡量标准、训练模型、评价模型表现、使用网格搜索配合交叉验证对参数进行调优并选出最佳参数，比较两者的差别，最终得出最佳模型对验证集的预测分数。"
   ]
  },
  {
   "cell_type": "code",
   "execution_count": 16,
   "metadata": {
    "collapsed": true
   },
   "outputs": [],
   "source": [
    "# TODO 6\n",
    "\n",
    "# 你的代码"
   ]
  },
  {
   "cell_type": "markdown",
   "metadata": {},
   "source": [
    "### 问题14 - 北京房价预测\n",
    "你成功的用新的数据集构建了模型了吗？他能对测试数据进行验证吗？它的表现是否符合你的预期？交叉验证是否有助于提升你模型的表现？\n",
    "\n",
    "**提示：**如果你是从零开始构建机器学习的代码会让你一时觉得无从下手。这时不要着急，你要做的只是查看之前写的代码，把每一行都看明白，然后逐步构建你的模型。当中遇到什么问题也可以在我们论坛寻找答案。也许你会发现你所构建的模型的表现并没有达到你的预期，这说明机器学习并非是一项简单的任务，构建一个表现良好的模型需要长时间的研究和测试。这也是我们接下来的课程中会逐渐学到的。"
   ]
  },
  {
   "cell_type": "markdown",
   "metadata": {},
   "source": [
    "### 问题14 - 回答"
   ]
  }
 ],
 "metadata": {
  "kernelspec": {
   "display_name": "Python 2",
   "language": "python",
   "name": "python2"
  },
  "language_info": {
   "codemirror_mode": {
    "name": "ipython",
    "version": 2
   },
   "file_extension": ".py",
   "mimetype": "text/x-python",
   "name": "python",
   "nbconvert_exporter": "python",
   "pygments_lexer": "ipython2",
   "version": "2.7.13"
  }
 },
 "nbformat": 4,
 "nbformat_minor": 1
}
